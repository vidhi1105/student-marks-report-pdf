{
  "nbformat": 4,
  "nbformat_minor": 0,
  "metadata": {
    "colab": {
      "provenance": []
    },
    "kernelspec": {
      "name": "python3",
      "display_name": "Python 3"
    },
    "language_info": {
      "name": "python"
    }
  },
  "cells": [
    {
      "cell_type": "code",
      "execution_count": null,
      "metadata": {
        "colab": {
          "base_uri": "https://localhost:8080/",
          "height": 309
        },
        "id": "RHB5OTbU85p4",
        "outputId": "cd5e59fb-0688-45c3-d150-d0744ee2ab7d"
      },
      "outputs": [
        {
          "output_type": "stream",
          "name": "stdout",
          "text": [
            "Requirement already satisfied: pandas in /usr/local/lib/python3.11/dist-packages (2.2.2)\n",
            "Collecting fpdf\n",
            "  Downloading fpdf-1.7.2.tar.gz (39 kB)\n",
            "  Preparing metadata (setup.py) ... \u001b[?25l\u001b[?25hdone\n",
            "Requirement already satisfied: numpy>=1.23.2 in /usr/local/lib/python3.11/dist-packages (from pandas) (2.0.2)\n",
            "Requirement already satisfied: python-dateutil>=2.8.2 in /usr/local/lib/python3.11/dist-packages (from pandas) (2.9.0.post0)\n",
            "Requirement already satisfied: pytz>=2020.1 in /usr/local/lib/python3.11/dist-packages (from pandas) (2025.2)\n",
            "Requirement already satisfied: tzdata>=2022.7 in /usr/local/lib/python3.11/dist-packages (from pandas) (2025.2)\n",
            "Requirement already satisfied: six>=1.5 in /usr/local/lib/python3.11/dist-packages (from python-dateutil>=2.8.2->pandas) (1.17.0)\n",
            "Building wheels for collected packages: fpdf\n",
            "  Building wheel for fpdf (setup.py) ... \u001b[?25l\u001b[?25hdone\n",
            "  Created wheel for fpdf: filename=fpdf-1.7.2-py2.py3-none-any.whl size=40704 sha256=f857bb8c4df403ed84e00c48077f9ee3b35dedd4b4e39212f6140fd3aeb9d9f5\n",
            "  Stored in directory: /root/.cache/pip/wheels/65/4f/66/bbda9866da446a72e206d6484cd97381cbc7859a7068541c36\n",
            "Successfully built fpdf\n",
            "Installing collected packages: fpdf\n",
            "Successfully installed fpdf-1.7.2\n"
          ]
        },
        {
          "output_type": "display_data",
          "data": {
            "text/plain": [
              "<IPython.core.display.Javascript object>"
            ],
            "application/javascript": [
              "\n",
              "    async function download(id, filename, size) {\n",
              "      if (!google.colab.kernel.accessAllowed) {\n",
              "        return;\n",
              "      }\n",
              "      const div = document.createElement('div');\n",
              "      const label = document.createElement('label');\n",
              "      label.textContent = `Downloading \"${filename}\": `;\n",
              "      div.appendChild(label);\n",
              "      const progress = document.createElement('progress');\n",
              "      progress.max = size;\n",
              "      div.appendChild(progress);\n",
              "      document.body.appendChild(div);\n",
              "\n",
              "      const buffers = [];\n",
              "      let downloaded = 0;\n",
              "\n",
              "      const channel = await google.colab.kernel.comms.open(id);\n",
              "      // Send a message to notify the kernel that we're ready.\n",
              "      channel.send({})\n",
              "\n",
              "      for await (const message of channel.messages) {\n",
              "        // Send a message to notify the kernel that we're ready.\n",
              "        channel.send({})\n",
              "        if (message.buffers) {\n",
              "          for (const buffer of message.buffers) {\n",
              "            buffers.push(buffer);\n",
              "            downloaded += buffer.byteLength;\n",
              "            progress.value = downloaded;\n",
              "          }\n",
              "        }\n",
              "      }\n",
              "      const blob = new Blob(buffers, {type: 'application/binary'});\n",
              "      const a = document.createElement('a');\n",
              "      a.href = window.URL.createObjectURL(blob);\n",
              "      a.download = filename;\n",
              "      div.appendChild(a);\n",
              "      a.click();\n",
              "      div.remove();\n",
              "    }\n",
              "  "
            ]
          },
          "metadata": {}
        },
        {
          "output_type": "display_data",
          "data": {
            "text/plain": [
              "<IPython.core.display.Javascript object>"
            ],
            "application/javascript": [
              "download(\"download_cfc6a9cb-7894-4d0c-8aaa-979605b5cc7a\", \"report.pdf\", 1139)"
            ]
          },
          "metadata": {}
        }
      ],
      "source": [
        "# Install required libraries\n",
        "!pip install pandas fpdf\n",
        "\n",
        "# Import libraries\n",
        "import pandas as pd\n",
        "from fpdf import FPDF\n",
        "\n",
        "# Create a sample CSV file (or upload your own instead)\n",
        "data = {\n",
        "     \"Name\": [\"John Paul\", \"Riya Sharma\", \"Amit Verma\", \"Sneha Mehta\",\n",
        "             \"David R.\", \"Pooja Patil\", \"Rakesh Nair\", \"Anjali Singh\"],\n",
        "    \"Subject\": [\"Maths\", \"Science\", \"English\", \"History\",\n",
        "                \"Maths\", \"Science\", \"English\", \"History\"],\n",
        "    \"Marks\": [85, 92, 78, 88, 74, 91, 67, 81]\n",
        "}\n",
        "df = pd.DataFrame(data)\n",
        "df.to_csv(\"data.csv\", index=False)\n",
        "\n",
        "# Read CSV and analyze data\n",
        "df = pd.read_csv(\"data.csv\")\n",
        "average_marks = df[\"Marks\"].mean()\n",
        "\n",
        "# Generate PDF report\n",
        "pdf = FPDF()\n",
        "pdf.add_page()\n",
        "pdf.set_font(\"Arial\", size=12)\n",
        "pdf.cell(200, 10, txt=\"Student Marks Report\", ln=True, align='C')\n",
        "pdf.cell(200, 10, txt=f\"Average Marks: {average_marks:.2f}\", ln=True)\n",
        "\n",
        "for index, row in df.iterrows():\n",
        "    pdf.cell(200, 10, txt=f\"{row['Name']}: {row['Marks']}\", ln=True)\n",
        "\n",
        "pdf.output(\"report.pdf\")\n",
        "\n",
        "# Download the generated PDF\n",
        "from google.colab import files\n",
        "files.download(\"report.pdf\")\n"
      ]
    },
    {
      "cell_type": "code",
      "source": [],
      "metadata": {
        "id": "dAsGZza88-op"
      },
      "execution_count": null,
      "outputs": []
    }
  ]
}